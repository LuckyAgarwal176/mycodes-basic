{
 "cells": [
  {
   "cell_type": "markdown",
   "metadata": {
    "id": "N6H25Lb91Kmg"
   },
   "source": [
    "### 1. What are the differences between the lambda and def ? (8 Marks)"
   ]
  },
  {
   "cell_type": "code",
   "execution_count": null,
   "metadata": {
    "id": "vuzea-Bq1Kmh"
   },
   "outputs": [],
   "source": [
    "lambda-its a single one lined anonymous function,here we can do a functionality without a function name .\n",
    "Its used to perform a single function at a time .\n",
    "Used as an argument to a higher order function like map, filter.\n",
    "It can only be used in the block where it was created \n",
    "eg\n",
    "add=lambda x,y:x+y\n",
    "print(add(4,5))\n",
    "\n",
    "where as def -its a user defined function can take various parameters and can perform more than one task at a time.\n",
    "It involves basic three step:\n",
    "    defining of a function\n",
    "    function  call\n",
    "    return the desired output\n",
    "It help program to be break in smaller sub program that are easy to access .\n",
    "They can be called and used anywhere we want\n",
    "eg \n",
    "def add(x,y):\n",
    "    return x+y\n",
    "add(4,5)"
   ]
  },
  {
   "cell_type": "markdown",
   "metadata": {
    "id": "KoIU7Kgm1Kmm"
   },
   "source": [
    "### 2.Python program that accepts a sentence and calculate the number of upper case letters and lower case letters? (8 Marks)\n",
    "     \n",
    "Input : Hello world!\n",
    "\n",
    "Then, the output should be:\n",
    "\n",
    "UPPER CASE 1\n",
    "\n",
    "LOWER CASE 9"
   ]
  },
  {
   "cell_type": "code",
   "execution_count": 7,
   "metadata": {},
   "outputs": [
    {
     "name": "stdout",
     "output_type": "stream",
     "text": [
      "please enter a valid sentence:Hello world !\n",
      "UPPER CASE 1\n",
      "LOWER CASE 9\n"
     ]
    }
   ],
   "source": [
    "sentence=input('please enter a valid sentence:')\n",
    "UPPER_CASE=0\n",
    "LOWER_CASE=0\n",
    "for i in sentence:\n",
    "    if i.isalpha():\n",
    "        if i.isupper():\n",
    "            UPPER_CASE+=1\n",
    "        else:\n",
    "            LOWER_CASE+=1\n",
    "    else :\n",
    "        pass\n",
    "print('UPPER CASE',UPPER_CASE)\n",
    "print('LOWER CASE',LOWER_CASE)   "
   ]
  },
  {
   "cell_type": "code",
   "execution_count": 15,
   "metadata": {},
   "outputs": [
    {
     "name": "stdout",
     "output_type": "stream",
     "text": [
      "please enter a sentence:Hello world!\n",
      "UPPER CASE 1\n",
      "LOWER CASE 9\n"
     ]
    }
   ],
   "source": [
    "data=input(\"please enter a sentence:\")\n",
    "UPPER_CASE=0\n",
    "LOWER_CASE=0\n",
    "for i in data:\n",
    "    if i.isalpha()==True:\n",
    "        if i.islower()==True:\n",
    "            LOWER_CASE+=1\n",
    "        else:\n",
    "            UPPER_CASE+=1\n",
    "print(\"UPPER CASE\",UPPER_CASE)\n",
    "print(\"LOWER CASE\",LOWER_CASE)\n"
   ]
  },
  {
   "cell_type": "markdown",
   "metadata": {},
   "source": [
    "the upper case in the above sentence is 1 and the lower case is 9"
   ]
  },
  {
   "cell_type": "markdown",
   "metadata": {
    "id": "ecmvzWp-o9NH"
   },
   "source": [
    "### 3. Python program which accepts a sequence of words separated by whitespace as input and print the words composed of digits only? (9 Marks)\n",
    " \n",
    "**Input:** 2 cats and 3 dogs.\n",
    "\n",
    "**output:** ['2', '3']\n",
    "\n"
   ]
  },
  {
   "cell_type": "code",
   "execution_count": 8,
   "metadata": {},
   "outputs": [
    {
     "name": "stdout",
     "output_type": "stream",
     "text": [
      "enter2 cats and 3 dogs.\n",
      "['2', '3']\n"
     ]
    }
   ],
   "source": [
    "a=input('enter')\n",
    "b=[]\n",
    "for i in a:\n",
    "    if i.isdigit():\n",
    "        b.append(i)\n",
    "print(b)"
   ]
  },
  {
   "cell_type": "code",
   "execution_count": 10,
   "metadata": {},
   "outputs": [
    {
     "name": "stdout",
     "output_type": "stream",
     "text": [
      "please enter a sequence of words with letter and number:2 cats and 3 dogs.\n",
      "['2', '3']\n"
     ]
    }
   ],
   "source": [
    "sentence=input(\"please enter a sequence of words with letter and number:\")\n",
    "sentence1=sentence.split(\" \")\n",
    "output_list=[]\n",
    "for i in sentence1:\n",
    "    if i.isnumeric():\n",
    "        output_list.append(i)\n",
    "print(output_list)\n"
   ]
  },
  {
   "cell_type": "code",
   "execution_count": null,
   "metadata": {},
   "outputs": [],
   "source": []
  },
  {
   "cell_type": "markdown",
   "metadata": {
    "id": "hkpeKQOa1Kmv"
   },
   "source": [
    "---------------------"
   ]
  },
  {
   "cell_type": "markdown",
   "metadata": {
    "id": "dkbw6l_e1Kmw"
   },
   "source": [
    "### 4.The temperature inside a room is 30 degrees Celsius. Write a program to display the output in Fahrenheit? Round the result to 2 decimal places (8 Marks)\n",
    "\n",
    "(Hint : Temperature in Farenhit = (Temperature in celsius*1.8)+32"
   ]
  },
  {
   "cell_type": "code",
   "execution_count": 13,
   "metadata": {
    "id": "7jrZuM9v1Kmw"
   },
   "outputs": [
    {
     "name": "stdout",
     "output_type": "stream",
     "text": [
      "the temp inside room in celsius is:30\n",
      "the temperature of the room in fahrenheit is: 86.0\n"
     ]
    }
   ],
   "source": [
    "temp_inside=float(input(\"the temp inside room in celsius is:\"))\n",
    "temp_fahrenheit=(temp_inside*1.8)+32\n",
    "Temperature_in_Fahrenheit=round(temp_fahrenheit,2)\n",
    "print(\"the temperature of the room in fahrenheit is:\", Temperature_in_Fahrenheit)"
   ]
  },
  {
   "cell_type": "markdown",
   "metadata": {
    "id": "rnECmnEyo9M2"
   },
   "source": [
    "### 5. Get a list of 10 numbers as an input from the user. Find the number of times a particular number is repeated. For example in the below list (8 Marks)\n",
    "\n",
    "A = [1,2,3,4,2,5,6,2,8,9]\n",
    "\n",
    "The number of times 2 is repeated is 3"
   ]
  },
  {
   "cell_type": "code",
   "execution_count": 19,
   "metadata": {},
   "outputs": [
    {
     "name": "stdout",
     "output_type": "stream",
     "text": [
      "enter1\n",
      "enter2\n",
      "enter3\n",
      "enter4\n",
      "enter2\n",
      "enter5\n",
      "enter6\n",
      "enter2\n",
      "enter8\n",
      "enter9\n",
      "['1', '2', '3', '4', '2', '5', '6', '2', '8', '9']\n"
     ]
    }
   ],
   "source": [
    "A=[]\n",
    "for i in range(1,11):\n",
    "    \n",
    "    a=input('enter')\n",
    "    A.append(a)\n",
    "\n",
    "print(A)"
   ]
  },
  {
   "cell_type": "code",
   "execution_count": 30,
   "metadata": {},
   "outputs": [
    {
     "name": "stdout",
     "output_type": "stream",
     "text": [
      "the number of times 2 is repeated 3\n",
      "the number of times 3 is repeated 2\n",
      "the number of times 2 is repeated 3\n",
      "the number of times 3 is repeated 2\n",
      "the number of times 2 is repeated 3\n"
     ]
    }
   ],
   "source": [
    "A = [1,2,3,4,2,3,6,2,8,9]\n",
    "count=0\n",
    "for j in A:\n",
    "    count=0\n",
    "    for k in A:\n",
    "         if j==k:\n",
    "                count+=1\n",
    "    if count>=2:\n",
    "\n",
    "        print('the number of times', j,'is repeated',count)\n",
    "            "
   ]
  },
  {
   "cell_type": "code",
   "execution_count": 30,
   "metadata": {},
   "outputs": [
    {
     "name": "stdout",
     "output_type": "stream",
     "text": [
      "please enter  list of repetitive numbers :1,2,3,4,2,5,6,2,8,9\n",
      "please enter the no from the list provided whose occurance you  wamt to check:2\n",
      "the number of times 2 is repeated is 3 \n"
     ]
    }
   ],
   "source": [
    "def count (lit,x):\n",
    "    count=0\n",
    "    for nums in A:\n",
    "        if (nums==x):\n",
    "            count+=1\n",
    "    return count\n",
    "A=input(\"please enter  list of repetitive numbers :\")\n",
    "x=input(\"please enter the no from the list provided whose occurance you  wamt to check:\")\n",
    "print(\"the number of times {} is repeated is {} \".format(x,count(A,x)))"
   ]
  },
  {
   "cell_type": "markdown",
   "metadata": {
    "id": "_0buB1M4o9Mi"
   },
   "source": [
    "### 6.The volume of a Spherical water tank with radius r is 4/3 π r^3. What is the volume of the tank with radius 6.95 Meters, 5.6 Meters and 10 meters? Use map() to calculate volume.(9 Marks)\n",
    "***(Hint: π = 3.142)\n",
    "\n",
    "***Sample Output\n",
    "\n",
    "The volumne of tank with 6.95 radius is 1406.37\n",
    "\n",
    "The volumne of tank with 5.6 radius is 735.71\n",
    "\n",
    "The volumne of tank with 10 radius is 4189.33"
   ]
  },
  {
   "cell_type": "code",
   "execution_count": 6,
   "metadata": {
    "id": "Ob93fEEe1Km4"
   },
   "outputs": [],
   "source": [
    "import math"
   ]
  },
  {
   "cell_type": "code",
   "execution_count": 9,
   "metadata": {},
   "outputs": [],
   "source": [
    "math.pi"
   ]
  },
  {
   "cell_type": "code",
   "execution_count": 25,
   "metadata": {},
   "outputs": [],
   "source": [
    "l1=[6.95,5.6,10]"
   ]
  },
  {
   "cell_type": "code",
   "execution_count": 27,
   "metadata": {},
   "outputs": [
    {
     "name": "stdout",
     "output_type": "stream",
     "text": [
      "the volume of tank with 6.95 radius is 1406.37\n",
      "the volume of tank with 5.6 radius is 735.71\n",
      "the volume of tank with 10 radius is 4189.33\n"
     ]
    }
   ],
   "source": [
    "volume=list(map(lambda x:round((4/3)*(3.142)*(x**3),2),l1))\n",
    "for i in range (0,3):\n",
    "    print(\"the volume of tank with {} radius is {}\".format(l1[i],volume[i]))"
   ]
  },
  {
   "cell_type": "code",
   "execution_count": null,
   "metadata": {},
   "outputs": [],
   "source": []
  }
 ],
 "metadata": {
  "colab": {
   "collapsed_sections": [],
   "name": "ITP_MID_EXAM_SET_8_PAPER.ipynb",
   "provenance": []
  },
  "kernelspec": {
   "display_name": "Python 3",
   "language": "python",
   "name": "python3"
  },
  "language_info": {
   "codemirror_mode": {
    "name": "ipython",
    "version": 3
   },
   "file_extension": ".py",
   "mimetype": "text/x-python",
   "name": "python",
   "nbconvert_exporter": "python",
   "pygments_lexer": "ipython3",
   "version": "3.8.5"
  }
 },
 "nbformat": 4,
 "nbformat_minor": 1
}
