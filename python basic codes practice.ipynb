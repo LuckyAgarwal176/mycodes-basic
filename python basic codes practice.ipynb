{
 "cells": [
  {
   "cell_type": "markdown",
   "metadata": {
    "id": "klUb0nkjvMyI"
   },
   "source": [
    " _________________"
   ]
  },
  {
   "cell_type": "markdown",
   "metadata": {
    "id": "Ufx1kfj9vMyK"
   },
   "source": [
    "### 1. What is the difference between append() and extend() methods? (5 Marks)"
   ]
  },
  {
   "cell_type": "code",
   "execution_count": null,
   "metadata": {
    "id": "JKSjUaf1vMyL"
   },
   "outputs": [],
   "source": [
    "The given method are applicable for list data type.\n",
    "The basic difference between the two methods is that we use 'append' to add single element to the list while to add more than 1 element at once we use .'extend'"
   ]
  },
  {
   "cell_type": "markdown",
   "metadata": {
    "id": "1lxmVJYdvMyX"
   },
   "source": [
    "### 2. Write a program to create a dictionary as follows ? (5 Marks)\n",
    "\n",
    "\n",
    "\n",
    "\n",
    "  **OUTPUT:**  * {1: 1, 2: 4, 3: 9, 4: 16, 5: 25, 6: 36, 7: 49, 8: 64, 9: 81, 10: 100, 11: 121, 12: 144, 13: 169, 14: 196, 15: 225}"
   ]
  },
  {
   "cell_type": "code",
   "execution_count": 10,
   "metadata": {},
   "outputs": [
    {
     "data": {
      "text/plain": [
       "{1: 1,\n",
       " 2: 4,\n",
       " 3: 9,\n",
       " 4: 16,\n",
       " 5: 25,\n",
       " 6: 36,\n",
       " 7: 49,\n",
       " 8: 64,\n",
       " 9: 81,\n",
       " 10: 100,\n",
       " 11: 121,\n",
       " 12: 144,\n",
       " 13: 169,\n",
       " 14: 196,\n",
       " 15: 225}"
      ]
     },
     "execution_count": 10,
     "metadata": {},
     "output_type": "execute_result"
    }
   ],
   "source": [
    "j=[i for i in range(1,16)]\n",
    "a=[i**2 for i in range(1,16) ]\n",
    "b=dict(zip(j,a))\n",
    "b"
   ]
  },
  {
   "cell_type": "code",
   "execution_count": 32,
   "metadata": {
    "id": "f5IwOPbsvMyZ"
   },
   "outputs": [
    {
     "data": {
      "text/plain": [
       "{1: 1,\n",
       " 2: 4,\n",
       " 3: 9,\n",
       " 4: 16,\n",
       " 5: 25,\n",
       " 6: 36,\n",
       " 7: 49,\n",
       " 8: 64,\n",
       " 9: 81,\n",
       " 10: 100,\n",
       " 11: 121,\n",
       " 12: 144,\n",
       " 13: 169,\n",
       " 14: 196,\n",
       " 15: 225}"
      ]
     },
     "execution_count": 32,
     "metadata": {},
     "output_type": "execute_result"
    }
   ],
   "source": [
    "a={}\n",
    "a[1]=1\n",
    "a.update({ 2: 4, 3: 9, 4: 16, 5: 25, 6: 36, 7: 49, 8: 64, 9: 81, 10: 100, 11: 121, 12: 144, 13: 169, 14: 196, 15: 225})\n",
    "a"
   ]
  },
  {
   "cell_type": "markdown",
   "metadata": {
    "id": "4S1F63UwvMyh"
   },
   "source": [
    "### 3. Write a program to Check if a given number is a Palindrome or not? (5 Marks)"
   ]
  },
  {
   "cell_type": "code",
   "execution_count": 1,
   "metadata": {
    "id": "QpANDstmvMyj"
   },
   "outputs": [
    {
     "name": "stdout",
     "output_type": "stream",
     "text": [
      "please give a valid no.:121\n",
      "the given no. is a palandrome\n"
     ]
    }
   ],
   "source": [
    "a=int(input(\"please give a valid no.:\"))\n",
    "b=a\n",
    "m=0\n",
    "while(a>0):\n",
    "    dig=a%10\n",
    "    m=m*10+dig\n",
    "    a=a//10\n",
    "if(b==m):\n",
    "    print('the given no. is a palandrome')\n",
    "else:\n",
    "    print('the given no. is not palandrome')"
   ]
  },
  {
   "cell_type": "markdown",
   "metadata": {
    "id": "onfJdgzMvMyu"
   },
   "source": [
    "### 4. Python program which  generate a list and a tuple which contains every number.Suppose the following  (5 Marks)\n",
    "    \n",
    "    input = 23,56,76,12,87 Then, the output should be:\n",
    "\n",
    "    ['23', '56', '76', '12', '87']\n",
    "\n",
    "    ('23', '56', '76', '12', '87')"
   ]
  },
  {
   "cell_type": "code",
   "execution_count": 12,
   "metadata": {
    "id": "VwaDi-gfvMyv"
   },
   "outputs": [
    {
     "name": "stdout",
     "output_type": "stream",
     "text": [
      "enter a no:23,56,76,12,87\n",
      "['23', '56', '76', '12', '87']\n",
      "('23', '56', '76', '12', '87')\n"
     ]
    }
   ],
   "source": [
    "b=(input('enter a no:'))\n",
    "c=b.split(',')\n",
    "print(list(c))\n",
    "print(tuple(c))"
   ]
  },
  {
   "cell_type": "markdown",
   "metadata": {
    "id": "szS3-6vDvMy0"
   },
   "source": [
    "### 5.  Write a code to print “Python” for multiples of three instead of the number, “Coding” for the multiples of five, “Python Coding” for multiples of both three and five (range is from 1 to 26). (10 Marks)"
   ]
  },
  {
   "cell_type": "code",
   "execution_count": 10,
   "metadata": {
    "id": "fi6tehuSvMy1"
   },
   "outputs": [
    {
     "name": "stdout",
     "output_type": "stream",
     "text": [
      "1\n",
      "2\n",
      "Python\n",
      "4\n",
      "Coding\n",
      "Python\n",
      "7\n",
      "8\n",
      "Python\n",
      "Coding\n",
      "11\n",
      "Python\n",
      "13\n",
      "14\n",
      "Python Coding\n",
      "16\n",
      "17\n",
      "Python\n",
      "19\n",
      "Coding\n",
      "Python\n",
      "22\n",
      "23\n",
      "Python\n",
      "Coding\n"
     ]
    }
   ],
   "source": [
    "for i in range(1,26):\n",
    "    if i%3==0 and i%5==0:\n",
    "        print('Python Coding')\n",
    "    elif i%5==0:\n",
    "        print('Coding')\n",
    "    elif i%3==0 :\n",
    "         print('Python')\n",
    "    else:\n",
    "        print(i)"
   ]
  },
  {
   "cell_type": "code",
   "execution_count": null,
   "metadata": {},
   "outputs": [],
   "source": []
  }
 ],
 "metadata": {
  "colab": {
   "name": "ITP_MID_EXAM_SET_4_PAPER.ipynb",
   "provenance": []
  },
  "kernelspec": {
   "display_name": "Python 3",
   "language": "python",
   "name": "python3"
  },
  "language_info": {
   "codemirror_mode": {
    "name": "ipython",
    "version": 3
   },
   "file_extension": ".py",
   "mimetype": "text/x-python",
   "name": "python",
   "nbconvert_exporter": "python",
   "pygments_lexer": "ipython3",
   "version": "3.8.5"
  }
 },
 "nbformat": 4,
 "nbformat_minor": 1
}
