{
 "cells": [
  {
   "cell_type": "raw",
   "metadata": {},
   "source": [
    "1.Write a program to add given numbers (3 and 5"
   ]
  },
  {
   "cell_type": "code",
   "execution_count": 2,
   "metadata": {},
   "outputs": [
    {
     "name": "stdout",
     "output_type": "stream",
     "text": [
      "8\n"
     ]
    }
   ],
   "source": [
    "def sum(a,b):\n",
    "    return a+b\n",
    "\n",
    "print(sum(3,5))"
   ]
  },
  {
   "cell_type": "raw",
   "metadata": {},
   "source": [
    "2.Write a program to subtract given numbers (5 and 3)"
   ]
  },
  {
   "cell_type": "code",
   "execution_count": 3,
   "metadata": {},
   "outputs": [
    {
     "name": "stdout",
     "output_type": "stream",
     "text": [
      "2\n"
     ]
    }
   ],
   "source": [
    "a=5\n",
    "b=3\n",
    "subtract=5-3\n",
    "print(subtract)"
   ]
  },
  {
   "cell_type": "raw",
   "metadata": {},
   "source": [
    "3.Write a program to add two numbers, take the number input dynamically."
   ]
  },
  {
   "cell_type": "code",
   "execution_count": 4,
   "metadata": {},
   "outputs": [
    {
     "name": "stdout",
     "output_type": "stream",
     "text": [
      "please enter 1st no:2\n",
      "please enter 2nd no:3\n",
      "5\n"
     ]
    }
   ],
   "source": [
    "a=int(input('please enter 1st no:'))\n",
    "b=int(input('please enter 2nd no:'))\n",
    "print(a+b)"
   ]
  },
  {
   "cell_type": "raw",
   "metadata": {},
   "source": [
    "4.Write a program to subtract two numbers, take the number input dynamically"
   ]
  },
  {
   "cell_type": "code",
   "execution_count": 5,
   "metadata": {},
   "outputs": [
    {
     "name": "stdout",
     "output_type": "stream",
     "text": [
      "please enter 1st no:67\n",
      "please enter 2nd no:54\n",
      "13\n"
     ]
    }
   ],
   "source": [
    "a=int(input('please enter 1st no:'))\n",
    "b=int(input('please enter 2nd no:'))\n",
    "print(a-b)"
   ]
  },
  {
   "cell_type": "raw",
   "metadata": {},
   "source": [
    "5.Write a program to find the square root of a number."
   ]
  },
  {
   "cell_type": "code",
   "execution_count": 8,
   "metadata": {},
   "outputs": [
    {
     "name": "stdout",
     "output_type": "stream",
     "text": [
      "please enter a perfect square no:25\n"
     ]
    },
    {
     "data": {
      "text/plain": [
       "5.0"
      ]
     },
     "execution_count": 8,
     "metadata": {},
     "output_type": "execute_result"
    }
   ],
   "source": [
    "a=int(input('please enter a perfect square no:'))\n",
    "pow(a,0.5)"
   ]
  },
  {
   "cell_type": "code",
   "execution_count": 10,
   "metadata": {},
   "outputs": [
    {
     "data": {
      "text/plain": [
       "5.0"
      ]
     },
     "execution_count": 10,
     "metadata": {},
     "output_type": "execute_result"
    }
   ],
   "source": [
    "a**0.5"
   ]
  },
  {
   "cell_type": "raw",
   "metadata": {},
   "source": [
    "6.Write a program to swap two numbers."
   ]
  },
  {
   "cell_type": "code",
   "execution_count": 11,
   "metadata": {},
   "outputs": [
    {
     "name": "stdout",
     "output_type": "stream",
     "text": [
      "please enter 1st no:25\n",
      "please enter 2nd no:12\n",
      "12\n",
      "25\n"
     ]
    }
   ],
   "source": [
    "a=int(input('please enter 1st no:'))\n",
    "b=int(input('please enter 2nd no:'))\n",
    "a,b=b,a\n",
    "print(a)\n",
    "print(b)"
   ]
  },
  {
   "cell_type": "raw",
   "metadata": {},
   "source": [
    "7.Write a program to swap three numbers"
   ]
  },
  {
   "cell_type": "code",
   "execution_count": 12,
   "metadata": {},
   "outputs": [
    {
     "name": "stdout",
     "output_type": "stream",
     "text": [
      "please enter 1st no:12\n",
      "please enter 2nd no:13\n",
      "please enter 3rd no:14\n",
      "13\n",
      "14\n",
      "12\n"
     ]
    }
   ],
   "source": [
    "a=int(input('please enter 1st no:'))\n",
    "b=int(input('please enter 2nd no:'))\n",
    "c=int(input('please enter 3rd no:'))\n",
    "a,b,c=b,c,a\n",
    "print(a)\n",
    "print(b)\n",
    "print(c)"
   ]
  },
  {
   "cell_type": "raw",
   "metadata": {},
   "source": [
    "8.Write a program to Generate a Random Number."
   ]
  },
  {
   "cell_type": "code",
   "execution_count": 15,
   "metadata": {},
   "outputs": [
    {
     "data": {
      "text/plain": [
       "29"
      ]
     },
     "execution_count": 15,
     "metadata": {},
     "output_type": "execute_result"
    }
   ],
   "source": [
    "import numpy as np\n",
    "np.random.randint(1,100)"
   ]
  },
  {
   "cell_type": "raw",
   "metadata": {},
   "source": [
    "9.Write a program to find the area of a circle."
   ]
  },
  {
   "cell_type": "code",
   "execution_count": 18,
   "metadata": {},
   "outputs": [
    {
     "name": "stdout",
     "output_type": "stream",
     "text": [
      "enter radius7\n",
      "153.93804002589985\n"
     ]
    }
   ],
   "source": [
    "import math\n",
    "pi=math.pi\n",
    "r=float(input('enter radius'))\n",
    "print(pi*(r**2))"
   ]
  },
  {
   "cell_type": "raw",
   "metadata": {},
   "source": [
    "10.Write a program to find the area of a square"
   ]
  },
  {
   "cell_type": "code",
   "execution_count": 19,
   "metadata": {},
   "outputs": [
    {
     "name": "stdout",
     "output_type": "stream",
     "text": [
      "enter side4\n",
      "16.0\n"
     ]
    }
   ],
   "source": [
    "side=float(input('enter side'))\n",
    "area= side**2\n",
    "print(area)"
   ]
  },
  {
   "cell_type": "raw",
   "metadata": {},
   "source": [
    "Write a program to find the area of a rectangle"
   ]
  },
  {
   "cell_type": "code",
   "execution_count": 21,
   "metadata": {},
   "outputs": [
    {
     "name": "stdout",
     "output_type": "stream",
     "text": [
      "enter lenghth24\n",
      "enter breadth12\n",
      "288.0\n"
     ]
    }
   ],
   "source": [
    "length=float(input('enter lenghth'))\n",
    "breadth=float(input('enter breadth'))\n",
    "area= length*breadth\n",
    "print(area)"
   ]
  },
  {
   "cell_type": "markdown",
   "metadata": {},
   "source": [
    "12.Write a program to find that the given number is odd or even."
   ]
  },
  {
   "cell_type": "code",
   "execution_count": 22,
   "metadata": {},
   "outputs": [
    {
     "name": "stdout",
     "output_type": "stream",
     "text": [
      "please enter a no:24\n",
      "no is even\n"
     ]
    }
   ],
   "source": [
    "a=int(input('please enter a no:'))\n",
    "if a%2==0:\n",
    "    print('no is even')\n",
    "else:\n",
    "    print('no is odd')"
   ]
  },
  {
   "cell_type": "raw",
   "metadata": {},
   "source": [
    "13.Write a program to find that the given number is positive , negative or 0."
   ]
  },
  {
   "cell_type": "code",
   "execution_count": 23,
   "metadata": {},
   "outputs": [
    {
     "name": "stdout",
     "output_type": "stream",
     "text": [
      "please enter a no:-24\n",
      "the given no is negative\n"
     ]
    }
   ],
   "source": [
    "a=int(input('please enter a no:'))\n",
    "if a==0:\n",
    "    print('the given no is zero')\n",
    "elif a>0:\n",
    "    print('the given no is positive')\n",
    "else:\n",
    "     print('the given no is negative')"
   ]
  },
  {
   "cell_type": "raw",
   "metadata": {},
   "source": [
    "14.Write a program to find if a given year is a leap year or not. Take 4-5 examples and check.\n"
   ]
  },
  {
   "cell_type": "code",
   "execution_count": 24,
   "metadata": {},
   "outputs": [
    {
     "name": "stdout",
     "output_type": "stream",
     "text": [
      "enter a year1900\n",
      "leap year\n"
     ]
    }
   ],
   "source": [
    "year=int(input('enter a year'))\n",
    "if year%400==0:\n",
    "    print('leap year')\n",
    "elif year%4==0:\n",
    "    print('leap year')\n",
    "elif year%100==0:\n",
    "    print('mot a leap year')\n",
    "else:\n",
    "    print('not a leap year')"
   ]
  },
  {
   "cell_type": "raw",
   "metadata": {},
   "source": [
    "15.Write a program to find if a given number is a prime number or not."
   ]
  },
  {
   "cell_type": "code",
   "execution_count": 124,
   "metadata": {},
   "outputs": [
    {
     "name": "stdout",
     "output_type": "stream",
     "text": [
      "enter a no;12\n",
      "not.prime\n"
     ]
    }
   ],
   "source": [
    "no=int(input('enter a no;'))\n",
    "for i in range(2,no):\n",
    "    if no %i==0:\n",
    "        print('not.prime')\n",
    "        break\n",
    "    else:\n",
    "        print(' prime')\n",
    "        break"
   ]
  },
  {
   "cell_type": "raw",
   "metadata": {},
   "source": [
    "16.Write a program to find the factorial of a number."
   ]
  },
  {
   "cell_type": "code",
   "execution_count": 36,
   "metadata": {},
   "outputs": [
    {
     "name": "stdout",
     "output_type": "stream",
     "text": [
      "enter no  whose factorial need to be calculated:4\n",
      "24\n"
     ]
    }
   ],
   "source": [
    "fact=1\n",
    "num=int(input('enter no  whose factorial need to be calculated:'))\n",
    "for number in range(1,num+1):\n",
    "    fact=fact*number\n",
    "print(fact)\n"
   ]
  },
  {
   "cell_type": "raw",
   "metadata": {},
   "source": [
    "17.Write a program to print Fibonacci Series."
   ]
  },
  {
   "cell_type": "code",
   "execution_count": 30,
   "metadata": {},
   "outputs": [
    {
     "name": "stdout",
     "output_type": "stream",
     "text": [
      "[0, 1, 1, 2, 3, 5, 8, 13, 21, 34, 55, 89]\n"
     ]
    }
   ],
   "source": [
    "a=0\n",
    "b=1\n",
    "fibo=[a,b]\n",
    "i=1\n",
    "while i<11:\n",
    "    c=a+b\n",
    "    a=b\n",
    "    b=c\n",
    "    i+=1\n",
    "    fibo.append(b)\n",
    "print(fibo)"
   ]
  },
  {
   "cell_type": "raw",
   "metadata": {},
   "source": [
    "18.Write a program to print Fibonacci Series Using Recursion."
   ]
  },
  {
   "cell_type": "code",
   "execution_count": 126,
   "metadata": {},
   "outputs": [
    {
     "name": "stdout",
     "output_type": "stream",
     "text": [
      "enter no  of terms:10\n",
      "0\n",
      "1\n",
      "1\n",
      "2\n",
      "3\n",
      "5\n",
      "8\n",
      "13\n",
      "21\n",
      "34\n"
     ]
    }
   ],
   "source": [
    "def fibo(n):\n",
    "    if n == 1:\n",
    "        return 0\n",
    "    if n==2:\n",
    "        return 1\n",
    "    else:\n",
    "        return(fibo(n-1) + fibo(n-2))\n",
    "\n",
    "\n",
    "n=int(input('enter no  of terms:'))\n",
    "for i in range(1,n+1):\n",
    "    print(fibo(i))"
   ]
  },
  {
   "cell_type": "raw",
   "metadata": {},
   "source": [
    "19.Write a program to print Palindrome sequences."
   ]
  },
  {
   "cell_type": "code",
   "execution_count": 26,
   "metadata": {},
   "outputs": [
    {
     "name": "stdout",
     "output_type": "stream",
     "text": [
      "enter a stringmadam\n",
      "its palindrome\n"
     ]
    }
   ],
   "source": [
    "a=input('enter a string')\n",
    "b=a[::-1]\n",
    "if a==b:\n",
    "    print('its palindrome')\n",
    "else:\n",
    "    print('not')"
   ]
  },
  {
   "cell_type": "code",
   "execution_count": null,
   "metadata": {},
   "outputs": [],
   "source": [
    "20.Write a program to print ASCII value of a character"
   ]
  },
  {
   "cell_type": "code",
   "execution_count": 32,
   "metadata": {},
   "outputs": [
    {
     "name": "stdout",
     "output_type": "stream",
     "text": [
      "please enter the charcter whose ascii value is needed:65\n"
     ]
    },
    {
     "data": {
      "text/plain": [
       "\"'a'\""
      ]
     },
     "execution_count": 32,
     "metadata": {},
     "output_type": "execute_result"
    }
   ],
   "source": [
    "a=input('please enter the charcter whose ascii value is needed:')\n",
    "ascii('a')"
   ]
  },
  {
   "cell_type": "raw",
   "metadata": {},
   "source": [
    "21.Write a program to find the sum of Natural Numbers"
   ]
  },
  {
   "cell_type": "code",
   "execution_count": 46,
   "metadata": {},
   "outputs": [
    {
     "name": "stdout",
     "output_type": "stream",
     "text": [
      "190\n"
     ]
    }
   ],
   "source": [
    "\n",
    "sum=0\n",
    "for i in range (1,20):\n",
    "    sum=sum+i\n",
    "print(sum)  "
   ]
  },
  {
   "cell_type": "raw",
   "metadata": {},
   "source": [
    "22.\n",
    "Write a program to find the sum of Natural Numbers Using Recursion."
   ]
  },
  {
   "cell_type": "code",
   "execution_count": 47,
   "metadata": {},
   "outputs": [
    {
     "data": {
      "text/plain": [
       "55"
      ]
     },
     "execution_count": 47,
     "metadata": {},
     "output_type": "execute_result"
    }
   ],
   "source": [
    "natnum=[1,2,3,4,5,6,7,8,9,10]\n",
    "def add(natnum):\n",
    "    if len(natnum)==0:\n",
    "        return 0\n",
    "    last_num=natnum.pop()\n",
    "    return last_num+add(natnum)\n",
    "\n",
    "\n",
    "add(natnum)"
   ]
  },
  {
   "cell_type": "raw",
   "metadata": {},
   "source": [
    "23.Write a program to Sort words in Alphabetic orders"
   ]
  },
  {
   "cell_type": "code",
   "execution_count": 4,
   "metadata": {},
   "outputs": [
    {
     "name": "stdout",
     "output_type": "stream",
     "text": [
      "enter a few words:yd,us,ah,jr\n"
     ]
    },
    {
     "data": {
      "text/plain": [
       "['ah', 'jr', 'us', 'yd']"
      ]
     },
     "execution_count": 4,
     "metadata": {},
     "output_type": "execute_result"
    }
   ],
   "source": [
    "a=(input('enter a few words:'))\n",
    "b=a.split(\",\")\n",
    "b.sort()\n",
    "b"
   ]
  },
  {
   "cell_type": "raw",
   "metadata": {},
   "source": [
    "24.Write a program to count the number of vowels in a statement."
   ]
  },
  {
   "cell_type": "code",
   "execution_count": 15,
   "metadata": {},
   "outputs": [
    {
     "name": "stdout",
     "output_type": "stream",
     "text": [
      "enter a stringlucky\n",
      "the no of vowels is 1\n"
     ]
    }
   ],
   "source": [
    "a=input('enter a string:').lower()\n",
    "count=0\n",
    "for i in a:\n",
    "    if i in ('a','e','i','o','u'):\n",
    "        count=count+1\n",
    "    else:\n",
    "        pass\n",
    "print('the no of vowels is',count)"
   ]
  },
  {
   "cell_type": "raw",
   "metadata": {},
   "source": [
    "25.print a)\n",
    "*\n",
    "* *\n",
    "* * *\n",
    "* * * *\n",
    "* * * * *\n"
   ]
  },
  {
   "cell_type": "code",
   "execution_count": 18,
   "metadata": {},
   "outputs": [
    {
     "name": "stdout",
     "output_type": "stream",
     "text": [
      "*  \n",
      "* *  \n",
      "* * *  \n",
      "* * * *  \n",
      "* * * * *  \n"
     ]
    }
   ],
   "source": [
    "for i in range(2,7):\n",
    "    for j in range(1,i):\n",
    "        print('*',end=\" \")\n",
    "        \n",
    "    print(\" \")"
   ]
  },
  {
   "cell_type": "code",
   "execution_count": 5,
   "metadata": {},
   "outputs": [
    {
     "name": "stdout",
     "output_type": "stream",
     "text": [
      "*  \n",
      "* *  \n",
      "* * *  \n",
      "* * * *  \n",
      "* * * * *  \n"
     ]
    }
   ],
   "source": [
    "for i in range(1,6):\n",
    "    for j in range(1,i+1):\n",
    "        print('*',end=\" \")\n",
    "        \n",
    "    print(\" \")"
   ]
  },
  {
   "cell_type": "code",
   "execution_count": 11,
   "metadata": {},
   "outputs": [
    {
     "name": "stdout",
     "output_type": "stream",
     "text": [
      "* \n",
      "* * \n",
      "* * * \n",
      "* * * * \n",
      "* * * * * \n"
     ]
    }
   ],
   "source": [
    "for i in range(1,6):\n",
    "    for j in range(1,6):\n",
    "        if j<=i:\n",
    "            print('* ',end='')\n",
    "    print('\\n',end=\"\")\n",
    "            \n",
    "        "
   ]
  },
  {
   "cell_type": "code",
   "execution_count": 35,
   "metadata": {},
   "outputs": [
    {
     "name": "stdout",
     "output_type": "stream",
     "text": [
      "* \n",
      "* * \n",
      "* * * \n",
      "* * * * \n",
      "* * * * * \n"
     ]
    }
   ],
   "source": [
    "for i in range(1,6):\n",
    "    print('* '*i)"
   ]
  },
  {
   "cell_type": "raw",
   "metadata": {},
   "source": [
    "b)\n",
    "1\n",
    "1\t2\n",
    "1\t2\t3\n",
    "1\t2\t3\t4\n",
    "1\t2\t3\t4\t5\n"
   ]
  },
  {
   "cell_type": "code",
   "execution_count": 14,
   "metadata": {},
   "outputs": [
    {
     "name": "stdout",
     "output_type": "stream",
     "text": [
      "1   \n",
      "1   2   \n",
      "1   2   3   \n",
      "1   2   3   4   \n",
      "1   2   3   4   5   \n"
     ]
    }
   ],
   "source": [
    "for i in range(2,7):\n",
    "    for j in range(1,i):\n",
    "        print(j,end=\"   \")\n",
    "        \n",
    "    print(\"\")\n",
    "        \n",
    "    "
   ]
  },
  {
   "cell_type": "code",
   "execution_count": 13,
   "metadata": {},
   "outputs": [
    {
     "name": "stdout",
     "output_type": "stream",
     "text": [
      "1   \n",
      "1   2   \n",
      "1   2   3   \n",
      "1   2   3   4   \n",
      "1   2   3   4   5   \n"
     ]
    }
   ],
   "source": [
    "for i in range (1,6):\n",
    "    for j in range(1,i+1):\n",
    "        print(j,end=\"   \")\n",
    "    print(\"\\n\",end='')"
   ]
  },
  {
   "cell_type": "raw",
   "metadata": {},
   "source": [
    "c)\n",
    "A\n",
    "B\tB\n",
    "C\tC\tC\n",
    "D\tD\tD\tD\n",
    "E\tE\tE\tE\tE\n",
    "#right angle traingle 5 row 5 column,same alphabet therefore no nested loop"
   ]
  },
  {
   "cell_type": "code",
   "execution_count": 85,
   "metadata": {},
   "outputs": [
    {
     "name": "stdout",
     "output_type": "stream",
     "text": [
      "A   \n",
      "B   B   \n",
      "C   C   C   \n",
      "D   D   D   D   \n",
      "E   E   E   E   E   \n"
     ]
    }
   ],
   "source": [
    "for i in range(5):\n",
    "    print((chr(65+i)+\"   \")*(i+1))\n",
    "    \n",
    "    "
   ]
  },
  {
   "cell_type": "raw",
   "metadata": {},
   "source": [
    "d)\n",
    "*\t*\t*\t*\t*\n",
    "*\t*\t*\t*\n",
    "*\t*\t*\n",
    "*\t*\n",
    "*"
   ]
  },
  {
   "cell_type": "code",
   "execution_count": 15,
   "metadata": {},
   "outputs": [
    {
     "name": "stdout",
     "output_type": "stream",
     "text": [
      "*   *   *   *   *    \n",
      "*   *   *   *    \n",
      "*   *   *    \n",
      "*   *    \n",
      "*    \n"
     ]
    }
   ],
   "source": [
    "for i in range(5,0,-1):\n",
    "    for j in range(1,i+1):\n",
    "        print('*',end=\"   \")\n",
    "        \n",
    "    print(\" \")\n"
   ]
  },
  {
   "cell_type": "raw",
   "metadata": {},
   "source": [
    "e)\n",
    "1\t2\t3\t4\t5\n",
    "1\t2\t3\t4\n",
    "1\t2\t3\n",
    "1\t2\n",
    "1\n"
   ]
  },
  {
   "cell_type": "code",
   "execution_count": 16,
   "metadata": {},
   "outputs": [
    {
     "name": "stdout",
     "output_type": "stream",
     "text": [
      "1   2   3   4   5   \n",
      "1   2   3   4   \n",
      "1   2   3   \n",
      "1   2   \n",
      "1   \n"
     ]
    }
   ],
   "source": [
    "for i in range(5,0,-1):\n",
    "    for j in range(1,i+1):\n",
    "        print(j,end=\"   \")\n",
    "        \n",
    "    print(\"\\n\",end=\"\")"
   ]
  },
  {
   "cell_type": "raw",
   "metadata": {},
   "source": [
    "f)\n",
    "                *\n",
    "\t\t\t*\t*\t*\n",
    "\t\t*\t*\t*\t*\t*\n",
    "\t*\t*\t*\t*\t*\t*\t*\n",
    "*\t*\t*\t*\t*\t*\t*\t*\t*\n",
    "\n"
   ]
  },
  {
   "cell_type": "code",
   "execution_count": 17,
   "metadata": {},
   "outputs": [
    {
     "name": "stdout",
     "output_type": "stream",
     "text": [
      "                 *  \n",
      "             *   *   *  \n",
      "         *   *   *   *   *  \n",
      "     *   *   *   *   *   *   *  \n",
      " *   *   *   *   *   *   *   *   *  \n"
     ]
    }
   ],
   "source": [
    "for k in range(1,10,2):\n",
    "    print(\"  \"*(9-k)+\" *  \"*k,end=\"\")\n",
    "    print(\"\\n\",end='')\n",
    "        \n",
    "    \n",
    "    \n"
   ]
  },
  {
   "cell_type": "code",
   "execution_count": 22,
   "metadata": {},
   "outputs": [
    {
     "name": "stdout",
     "output_type": "stream",
     "text": [
      "                *   \n",
      "            *   *   *   \n",
      "        *   *   *   *   *   \n",
      "    *   *   *   *   *   *   *   \n",
      "*   *   *   *   *   *   *   *   *   \n"
     ]
    }
   ],
   "source": [
    "for i in range (1,6):\n",
    "    for k in range(1,6-i):\n",
    "        print(\"   \",end=\" \")\n",
    "    for j in range(1,(2*i-1)+1):\n",
    "        print(\"*\",end=\"   \")\n",
    "    print(\"\\n\",end='')\n",
    "        \n",
    "    "
   ]
  },
  {
   "cell_type": "raw",
   "metadata": {},
   "source": [
    "g) \t\t\t\t1\n",
    "\t\t\t2\t3\t2\n",
    "\t\t3\t4\t5\t4\t3\n",
    "\t4\t5\t6\t7\t6\t5\t4\n",
    "5\t6\t7\t8\t9\t8\t7\t6\t5\n"
   ]
  },
  {
   "cell_type": "code",
   "execution_count": null,
   "metadata": {},
   "outputs": [],
   "source": [
    "for i in range(1,6):\n",
    "    \n",
    "    "
   ]
  },
  {
   "cell_type": "raw",
   "metadata": {},
   "source": [
    "h)\n",
    "*\t*\t*\t*\t*\t*\t*\t*\t*\n",
    "\t*\t*\t*\t*\t*\t*\t*\n",
    "\t\t*\t*\t*\t*\t*\n",
    "\t\t\t*\t*\t*\n",
    "\t\t\t\t*"
   ]
  },
  {
   "cell_type": "code",
   "execution_count": 117,
   "metadata": {},
   "outputs": [
    {
     "name": "stdout",
     "output_type": "stream",
     "text": [
      " *   *   *   *   *   *   *   *   *  \n",
      "     *   *   *   *   *   *   *  \n",
      "         *   *   *   *   *  \n",
      "             *   *   *  \n",
      "                 *  \n"
     ]
    }
   ],
   "source": [
    "\n",
    "    for j in range(9,0,-2):\n",
    "        print(\"  \"*(9-j)+' *  '*j)\n",
    "    \n",
    "    "
   ]
  },
  {
   "cell_type": "raw",
   "metadata": {},
   "source": [
    "i) \t\t\t\t\t1\n",
    "\t\t\t\t1\t\t1\n",
    "\t\t\t1\t\t2\t\t1\n",
    "\t\t1\t\t3\t\t3\t\t1\n",
    "\t1\t\t4\t\t6\t\t4\t\t1\n",
    "1\t\t5\t\t10\t\t10\t\t5\t\t1"
   ]
  },
  {
   "cell_type": "code",
   "execution_count": null,
   "metadata": {},
   "outputs": [],
   "source": []
  },
  {
   "cell_type": "raw",
   "metadata": {},
   "source": [
    "j)\n",
    "1\n",
    "2\t3\n",
    "4\t5\t6\n",
    "7\t8\t9\t10\n"
   ]
  },
  {
   "cell_type": "code",
   "execution_count": 121,
   "metadata": {},
   "outputs": [
    {
     "name": "stdout",
     "output_type": "stream",
     "text": [
      "1  \n",
      "\n",
      "1  2  \n",
      "\n",
      "1  2  3  \n",
      "\n",
      "1  2  3  4  \n",
      "\n"
     ]
    }
   ],
   "source": [
    "for i in range (1,5):\n",
    "    for k in range(1,i+1):\n",
    "            print(k,end=\"  \")\n",
    "            \n",
    "    print(\"\\n\")\n",
    "    "
   ]
  },
  {
   "cell_type": "code",
   "execution_count": null,
   "metadata": {},
   "outputs": [],
   "source": []
  },
  {
   "cell_type": "raw",
   "metadata": {},
   "source": [
    "26.Write a Program to Shuffle Deck of Cards"
   ]
  },
  {
   "cell_type": "code",
   "execution_count": 79,
   "metadata": {},
   "outputs": [
    {
     "data": {
      "text/plain": [
       "5"
      ]
     },
     "execution_count": 79,
     "metadata": {},
     "output_type": "execute_result"
    }
   ],
   "source": [
    "import numpy as np\n",
    "np.random.randint(1,10)"
   ]
  },
  {
   "cell_type": "raw",
   "metadata": {},
   "source": [
    "27.Write a Program to find the factorial of a number Using Recursion."
   ]
  },
  {
   "cell_type": "code",
   "execution_count": 80,
   "metadata": {},
   "outputs": [
    {
     "data": {
      "text/plain": [
       "24"
      ]
     },
     "execution_count": 80,
     "metadata": {},
     "output_type": "execute_result"
    }
   ],
   "source": [
    "def fact(n):\n",
    "    if n==0:\n",
    "        return 1\n",
    "    return n*fact(n-1)\n",
    "\n",
    "fact(4)"
   ]
  },
  {
   "cell_type": "code",
   "execution_count": null,
   "metadata": {},
   "outputs": [],
   "source": []
  }
 ],
 "metadata": {
  "kernelspec": {
   "display_name": "Python 3",
   "language": "python",
   "name": "python3"
  },
  "language_info": {
   "codemirror_mode": {
    "name": "ipython",
    "version": 3
   },
   "file_extension": ".py",
   "mimetype": "text/x-python",
   "name": "python",
   "nbconvert_exporter": "python",
   "pygments_lexer": "ipython3",
   "version": "3.8.5"
  }
 },
 "nbformat": 4,
 "nbformat_minor": 4
}
